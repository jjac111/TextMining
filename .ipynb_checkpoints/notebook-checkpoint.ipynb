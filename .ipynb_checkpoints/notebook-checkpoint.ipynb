{
 "cells": [
  {
   "cell_type": "code",
   "execution_count": 1,
   "metadata": {},
   "outputs": [],
   "source": [
    "from config import *\n",
    "from utils import *\n",
    "import pandas as pd"
   ]
  },
  {
   "cell_type": "code",
   "execution_count": 2,
   "metadata": {},
   "outputs": [
    {
     "data": {
      "text/html": [
       "<div>\n",
       "<style scoped>\n",
       "    .dataframe tbody tr th:only-of-type {\n",
       "        vertical-align: middle;\n",
       "    }\n",
       "\n",
       "    .dataframe tbody tr th {\n",
       "        vertical-align: top;\n",
       "    }\n",
       "\n",
       "    .dataframe thead th {\n",
       "        text-align: right;\n",
       "    }\n",
       "</style>\n",
       "<table border=\"1\" class=\"dataframe\">\n",
       "  <thead>\n",
       "    <tr style=\"text-align: right;\">\n",
       "      <th></th>\n",
       "      <th>tweet_id</th>\n",
       "      <th>tweet_date</th>\n",
       "      <th>tweet_screen_name</th>\n",
       "      <th>tweet_text</th>\n",
       "    </tr>\n",
       "  </thead>\n",
       "  <tbody>\n",
       "    <tr>\n",
       "      <th>0</th>\n",
       "      <td>1096977737930158080</td>\n",
       "      <td>2019-02-17</td>\n",
       "      <td>gabrielguerronv</td>\n",
       "      <td>@AlexTonello5RC @CompromisoRC5 @PaolaPabonC @M...</td>\n",
       "    </tr>\n",
       "    <tr>\n",
       "      <th>1</th>\n",
       "      <td>1096977884848082944</td>\n",
       "      <td>2019-02-17</td>\n",
       "      <td>jhonav00</td>\n",
       "      <td>@PaolaPabonC @CompromisoRC5 @MashiRafael @Alex...</td>\n",
       "    </tr>\n",
       "    <tr>\n",
       "      <th>2</th>\n",
       "      <td>1096981630881882113</td>\n",
       "      <td>2019-02-17</td>\n",
       "      <td>Cristhyn3000</td>\n",
       "      <td>Que importante ha sido sentir el calor de los ...</td>\n",
       "    </tr>\n",
       "    <tr>\n",
       "      <th>3</th>\n",
       "      <td>1096982892759130112</td>\n",
       "      <td>2019-02-17</td>\n",
       "      <td>PelotonFusilero</td>\n",
       "      <td>Mi campaña no tiene pactos políticos ni aporte...</td>\n",
       "    </tr>\n",
       "    <tr>\n",
       "      <th>4</th>\n",
       "      <td>1096983080072556544</td>\n",
       "      <td>2019-02-17</td>\n",
       "      <td>carosu_92</td>\n",
       "      <td>¡Lo más avergonzarte que he visto cómo mujer! ...</td>\n",
       "    </tr>\n",
       "  </tbody>\n",
       "</table>\n",
       "</div>"
      ],
      "text/plain": [
       "              tweet_id  tweet_date tweet_screen_name  \\\n",
       "0  1096977737930158080  2019-02-17   gabrielguerronv   \n",
       "1  1096977884848082944  2019-02-17          jhonav00   \n",
       "2  1096981630881882113  2019-02-17      Cristhyn3000   \n",
       "3  1096982892759130112  2019-02-17   PelotonFusilero   \n",
       "4  1096983080072556544  2019-02-17         carosu_92   \n",
       "\n",
       "                                          tweet_text  \n",
       "0  @AlexTonello5RC @CompromisoRC5 @PaolaPabonC @M...  \n",
       "1  @PaolaPabonC @CompromisoRC5 @MashiRafael @Alex...  \n",
       "2  Que importante ha sido sentir el calor de los ...  \n",
       "3  Mi campaña no tiene pactos políticos ni aporte...  \n",
       "4  ¡Lo más avergonzarte que he visto cómo mujer! ...  "
      ]
     },
     "execution_count": 2,
     "metadata": {},
     "output_type": "execute_result"
    }
   ],
   "source": [
    "df = pd.read_pickle(pkl_file)\n",
    "df.head()"
   ]
  },
  {
   "cell_type": "code",
   "execution_count": 3,
   "metadata": {},
   "outputs": [
    {
     "name": "stdout",
     "output_type": "stream",
     "text": [
      "Total tweets: 964439\n",
      "Total tweets from candidates: 1005\n",
      "The top 5 most active candidates are:\n",
      "tweet_screen_name\n",
      "HernanUlloa        122\n",
      "abenavidesgol1     103\n",
      "jimmyjairala        72\n",
      "wgomezr             68\n",
      "LuisaMaldonadoM     63\n",
      "Name: count, dtype: int64\n"
     ]
    }
   ],
   "source": [
    "candidates_tweets = top_candidates(df)"
   ]
  },
  {
   "cell_type": "code",
   "execution_count": null,
   "metadata": {
    "scrolled": true
   },
   "outputs": [
    {
     "name": "stdout",
     "output_type": "stream",
     "text": [
      "\n",
      "The entire vocabulary has size 2303\n",
      "\n",
      "Top 10 words for candidates:\n",
      "jimmyjairala\t['guayaquil', 'vamos', 'municipio', 'menos', 'solo', 'lee', 'entrevista', 'invito', 'puede', 'vez']\n",
      "\n",
      "abenavidesgol1\t['triunfo', 'copa', 'independiente', 'casa', 'liga', 'sub', 'quito', 'américa', 'valle', 'derrota']\n",
      "\n",
      "HernanUlloa\t['voto', 'casillero', 'candidatos', 'votar', 'cpccs', 'candidato', 'nulo', 'familia', 'ser', 'elecciones']\n",
      "\n",
      "LuisaMaldonadoM\t['gracias', 'recuperar', 'hoy', 'lista', 'ciudad', 'vecinos', 'vamos', 'todas', 'junto', 'alcaldía']\n",
      "\n",
      "wgomezr\t['pueblo', 'apoyo', 'vote', 'parte', 'electo', 'hacer', 'quiere', 'respetar', 'voto', 'ciudadano']\n",
      "\n"
     ]
    }
   ],
   "source": [
    "candidates_words, tf_idf, vocabulary = top_words(candidates_tweets)"
   ]
  },
  {
   "cell_type": "code",
   "execution_count": null,
   "metadata": {
    "scrolled": true
   },
   "outputs": [],
   "source": [
    "tf_idf[tf_idf['word'] == 'pueblo']"
   ]
  },
  {
   "cell_type": "code",
   "execution_count": null,
   "metadata": {},
   "outputs": [],
   "source": [
    "time_line(candidates_words, candidates_tweets)"
   ]
  },
  {
   "cell_type": "code",
   "execution_count": null,
   "metadata": {},
   "outputs": [],
   "source": [
    "total_user_vectors = ranking('porque pueblo', vocabulary, candidates_tweets, tf_idf)"
   ]
  },
  {
   "cell_type": "code",
   "execution_count": null,
   "metadata": {},
   "outputs": [],
   "source": [
    "similarity(total_user_vectors)"
   ]
  },
  {
   "cell_type": "code",
   "execution_count": null,
   "metadata": {},
   "outputs": [],
   "source": [
    "deviation(candidates_words)"
   ]
  }
 ],
 "metadata": {
  "kernelspec": {
   "display_name": "Python 3",
   "language": "python",
   "name": "python3"
  },
  "language_info": {
   "codemirror_mode": {
    "name": "ipython",
    "version": 3
   },
   "file_extension": ".py",
   "mimetype": "text/x-python",
   "name": "python",
   "nbconvert_exporter": "python",
   "pygments_lexer": "ipython3",
   "version": "3.7.3"
  }
 },
 "nbformat": 4,
 "nbformat_minor": 4
}
