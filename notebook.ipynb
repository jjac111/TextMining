{
 "cells": [
  {
   "cell_type": "code",
   "execution_count": 1,
   "metadata": {},
   "outputs": [],
   "source": [
    "from config import *\n",
    "from utils import *\n",
    "import pandas as pd\n",
    "pd.options.display.max_columns = 50000"
   ]
  },
  {
   "cell_type": "markdown",
   "metadata": {},
   "source": [
    "# Leer pickle"
   ]
  },
  {
   "cell_type": "code",
   "execution_count": 2,
   "metadata": {},
   "outputs": [
    {
     "data": {
      "text/html": [
       "<div>\n",
       "<style scoped>\n",
       "    .dataframe tbody tr th:only-of-type {\n",
       "        vertical-align: middle;\n",
       "    }\n",
       "\n",
       "    .dataframe tbody tr th {\n",
       "        vertical-align: top;\n",
       "    }\n",
       "\n",
       "    .dataframe thead th {\n",
       "        text-align: right;\n",
       "    }\n",
       "</style>\n",
       "<table border=\"1\" class=\"dataframe\">\n",
       "  <thead>\n",
       "    <tr style=\"text-align: right;\">\n",
       "      <th></th>\n",
       "      <th>tweet_id</th>\n",
       "      <th>tweet_date</th>\n",
       "      <th>tweet_screen_name</th>\n",
       "      <th>tweet_text</th>\n",
       "    </tr>\n",
       "  </thead>\n",
       "  <tbody>\n",
       "    <tr>\n",
       "      <th>0</th>\n",
       "      <td>1096977737930158080</td>\n",
       "      <td>2019-02-17</td>\n",
       "      <td>gabrielguerronv</td>\n",
       "      <td>@AlexTonello5RC @CompromisoRC5 @PaolaPabonC @M...</td>\n",
       "    </tr>\n",
       "    <tr>\n",
       "      <th>1</th>\n",
       "      <td>1096977884848082944</td>\n",
       "      <td>2019-02-17</td>\n",
       "      <td>jhonav00</td>\n",
       "      <td>@PaolaPabonC @CompromisoRC5 @MashiRafael @Alex...</td>\n",
       "    </tr>\n",
       "    <tr>\n",
       "      <th>2</th>\n",
       "      <td>1096981630881882113</td>\n",
       "      <td>2019-02-17</td>\n",
       "      <td>Cristhyn3000</td>\n",
       "      <td>Que importante ha sido sentir el calor de los ...</td>\n",
       "    </tr>\n",
       "    <tr>\n",
       "      <th>3</th>\n",
       "      <td>1096982892759130112</td>\n",
       "      <td>2019-02-17</td>\n",
       "      <td>PelotonFusilero</td>\n",
       "      <td>Mi campaña no tiene pactos políticos ni aporte...</td>\n",
       "    </tr>\n",
       "    <tr>\n",
       "      <th>4</th>\n",
       "      <td>1096983080072556544</td>\n",
       "      <td>2019-02-17</td>\n",
       "      <td>carosu_92</td>\n",
       "      <td>¡Lo más avergonzarte que he visto cómo mujer! ...</td>\n",
       "    </tr>\n",
       "  </tbody>\n",
       "</table>\n",
       "</div>"
      ],
      "text/plain": [
       "              tweet_id  tweet_date tweet_screen_name  \\\n",
       "0  1096977737930158080  2019-02-17   gabrielguerronv   \n",
       "1  1096977884848082944  2019-02-17          jhonav00   \n",
       "2  1096981630881882113  2019-02-17      Cristhyn3000   \n",
       "3  1096982892759130112  2019-02-17   PelotonFusilero   \n",
       "4  1096983080072556544  2019-02-17         carosu_92   \n",
       "\n",
       "                                          tweet_text  \n",
       "0  @AlexTonello5RC @CompromisoRC5 @PaolaPabonC @M...  \n",
       "1  @PaolaPabonC @CompromisoRC5 @MashiRafael @Alex...  \n",
       "2  Que importante ha sido sentir el calor de los ...  \n",
       "3  Mi campaña no tiene pactos políticos ni aporte...  \n",
       "4  ¡Lo más avergonzarte que he visto cómo mujer! ...  "
      ]
     },
     "execution_count": 2,
     "metadata": {},
     "output_type": "execute_result"
    }
   ],
   "source": [
    "df = pd.read_pickle(pkl_file)\n",
    "df.head()"
   ]
  },
  {
   "cell_type": "markdown",
   "metadata": {},
   "source": [
    "# Top 10 candidatos más activos"
   ]
  },
  {
   "cell_type": "code",
   "execution_count": 3,
   "metadata": {},
   "outputs": [
    {
     "name": "stdout",
     "output_type": "stream",
     "text": [
      "Total tweets: 964439\n",
      "Total tweets from candidates: 10046\n",
      "The top 10 most active candidates are:\n",
      "tweet_screen_name\n",
      "HernanUlloa        1183\n",
      "abenavidesgol1     1070\n",
      "wgomezr             804\n",
      "jimmyjairala        662\n",
      "LuisaMaldonadoM     574\n",
      "LoroHomero          509\n",
      "VickyDesintonio     477\n",
      "CynthiaViteri6      357\n",
      "fcojimenez21        335\n",
      "davidroserow        305\n",
      "Name: count, dtype: int64\n"
     ]
    }
   ],
   "source": [
    "candidates_tweets, candidates_lastnames = top_candidates(df, only_manifestos=False)"
   ]
  },
  {
   "cell_type": "markdown",
   "metadata": {},
   "source": [
    "# Top 10 palabras por candidato"
   ]
  },
  {
   "cell_type": "code",
   "execution_count": null,
   "metadata": {
    "scrolled": true
   },
   "outputs": [
    {
     "name": "stdout",
     "output_type": "stream",
     "text": [
      "\n",
      "The entire vocabulary has size 10852\n",
      "\n",
      "Top 10 words for candidates:\n",
      "HernanUlloa\t['voto', 'candidato', 'casillero', 'ser', 'mejor', 'candidatos', 'ulloa', 'cpccs', 'votar', 'gracias']\n",
      "\n",
      "jimmyjairala\t['guayaquil', 'lee', 'nota', 'ciudad', 'vamos', 'hoy', 'alcaldía', 'multas', 'mira', 'ser']\n",
      "\n",
      "LoroHomero\t['alcalde', 'jorge', 'yunda', 'quito', 'gracias', 'ciudad', 'hoy', 'trabajo', 'sur', 'campaña']\n",
      "\n",
      "abenavidesgol1\t['triunfo', 'copa', 'liga', 'empate', 'quito', 'ecuador', 'casa', 'ligapro', 'independiente', 'encuentro']\n",
      "\n",
      "VickyDesintonio\t['participación', 'consejo', 'ciudadanos', 'marzo', 'ciudadana', 'voto', 'ecuatorianos', 'violencia', 'vamos', 'control']\n",
      "\n",
      "fcojimenez21\t['vamos', 'guayaquil', 'marzo', 'ciudad', 'vía', 'municipal', 'hoy', 'vivo', 'junto', 'obra']\n",
      "\n",
      "CynthiaViteri6\t['guayaquil', 'ciudad', 'cada', 'progreso', 'sueños', 'obras', 'seguiremos', 'bienestar', 'vamos', 'hoy']\n",
      "\n",
      "wgomezr\t['pueblo', 'prov', 'voto', 'voluntad', 'debe', 'ser', 'entrevista', 'apoyo', 'ecuador', 'gracias']\n",
      "\n",
      "davidroserow\t['voto', 'david', 'gracias', 'apoyo', 'vamos', 'candidato', 'rosero', 'consejero', 'rumbo', 'consejo']\n",
      "\n",
      "LuisaMaldonadoM\t['vamos', 'ciudad', 'gracias', 'pueblo', 'recuperar', 'hoy', 'lista', 'alcaldía', 'vecinos', 'quito']\n",
      "\n"
     ]
    }
   ],
   "source": [
    "candidates_words, tf_idf, vocabulary, top_words_set = top_words(candidates_tweets)"
   ]
  },
  {
   "cell_type": "markdown",
   "metadata": {},
   "source": [
    "# TF-IDF de una palabra"
   ]
  },
  {
   "cell_type": "code",
   "execution_count": null,
   "metadata": {
    "scrolled": true
   },
   "outputs": [],
   "source": [
    "tf_idf[tf_idf['word'] == 'quito']"
   ]
  },
  {
   "cell_type": "code",
   "execution_count": null,
   "metadata": {},
   "outputs": [],
   "source": [
    "## Import up sound alert dependencies\n",
    "from IPython.display import Audio, display\n",
    "\n",
    "def allDone():\n",
    "  display(Audio(url='https://sound.peal.io/ps/audios/000/000/537/original/woo_vu_luvub_dub_dub.wav', autoplay=True))\n",
    "## Insert whatever audio file you want above\n",
    "allDone()"
   ]
  },
  {
   "cell_type": "markdown",
   "metadata": {},
   "source": [
    "# Timeline de palabras por candidato"
   ]
  },
  {
   "cell_type": "code",
   "execution_count": null,
   "metadata": {
    "scrolled": true
   },
   "outputs": [],
   "source": [
    "time_line(candidates_words, candidates_tweets)"
   ]
  },
  {
   "cell_type": "markdown",
   "metadata": {},
   "source": [
    "# Ranking de candidatos por query"
   ]
  },
  {
   "cell_type": "code",
   "execution_count": null,
   "metadata": {
    "scrolled": true
   },
   "outputs": [],
   "source": [
    "total_user_vectors = ranking(input(), vocabulary, candidates_tweets, tf_idf)"
   ]
  },
  {
   "cell_type": "markdown",
   "metadata": {},
   "source": [
    "# Similaridad de actividad entre candidatos"
   ]
  },
  {
   "cell_type": "code",
   "execution_count": null,
   "metadata": {
    "scrolled": true
   },
   "outputs": [],
   "source": [
    "similarity(total_user_vectors)"
   ]
  },
  {
   "cell_type": "markdown",
   "metadata": {},
   "source": [
    "# Similaridad entre actividad de candidatos con sus manifiestos"
   ]
  },
  {
   "cell_type": "code",
   "execution_count": null,
   "metadata": {},
   "outputs": [],
   "source": [
    "deviation(candidates_words, candidates_lastnames,  vocabulary, candidates_tweets, total_user_vectors, tf_idf)"
   ]
  }
 ],
 "metadata": {
  "kernelspec": {
   "display_name": "Python 3",
   "language": "python",
   "name": "python3"
  },
  "language_info": {
   "codemirror_mode": {
    "name": "ipython",
    "version": 3
   },
   "file_extension": ".py",
   "mimetype": "text/x-python",
   "name": "python",
   "nbconvert_exporter": "python",
   "pygments_lexer": "ipython3",
   "version": "3.7.3"
  }
 },
 "nbformat": 4,
 "nbformat_minor": 4
}
